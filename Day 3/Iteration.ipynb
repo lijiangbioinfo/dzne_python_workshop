{
 "cells": [
  {
   "cell_type": "markdown",
   "metadata": {},
   "source": [
    "## Iteration: Automating steps with for-loops\n",
    "\n",
    "Repeating a single action for each item in a sequence is often done using a for-each-loop:\n",
    "\n",
    "```python\n",
    "pets = [\"Rabbit\", \"Dog\", \"Cat\"]\n",
    "for pet in pets:\n",
    "  print(\"I have a {}\".format(pet))\n",
    "```\n",
    "\n",
    "To get used to for-loops in Python, let's use this pattern for the following exercises:"
   ]
  },
  {
   "cell_type": "markdown",
   "metadata": {},
   "source": [
    "1. Print each City's name, one at a time:"
   ]
  },
  {
   "cell_type": "code",
   "execution_count": 2,
   "metadata": {},
   "outputs": [],
   "source": [
    "cities = [\"Beijing\", \"New York City\", \"Tel Aviv\", \"Paris\", \"Istanbul\", \"Rome\", \"Berlin\"]"
   ]
  },
  {
   "cell_type": "code",
   "execution_count": 3,
   "metadata": {},
   "outputs": [
    {
     "name": "stdout",
     "output_type": "stream",
     "text": [
      "This is the city Beijing\n",
      "This is the city New York City\n",
      "This is the city Tel Aviv\n",
      "This is the city Paris\n",
      "This is the city Istanbul\n",
      "This is the city Rome\n",
      "This is the city Berlin\n"
     ]
    }
   ],
   "source": [
    "for city in cities:\n",
    "    print('This is the city {}'.format(city))"
   ]
  },
  {
   "cell_type": "markdown",
   "metadata": {},
   "source": [
    "  2. Print the number of each type of nucleotide in this sequence:"
   ]
  },
  {
   "cell_type": "code",
   "execution_count": 4,
   "metadata": {},
   "outputs": [],
   "source": [
    "seq = \"AUCGGUUCGAAGCUUAGCGCA\""
   ]
  },
  {
   "cell_type": "code",
   "execution_count": 10,
   "metadata": {},
   "outputs": [
    {
     "name": "stdout",
     "output_type": "stream",
     "text": [
      "A 5\n",
      "U 5\n",
      "C 5\n",
      "G 6\n"
     ]
    }
   ],
   "source": [
    "a_num, u_num, c_num, g_num = (0, 0, 0, 0)\n",
    "for i_acid in seq:\n",
    "    if i_acid == 'A':\n",
    "        a_num += 1\n",
    "    elif i_acid == 'U':\n",
    "        u_num += 1\n",
    "    elif i_acid == 'C':\n",
    "        c_num += 1\n",
    "    else:\n",
    "        g_num += 1\n",
    "    \n",
    "print('A {}'.format(a_num))\n",
    "print('U {}'.format(u_num))\n",
    "print('C {}'.format(c_num))\n",
    "print('G {}'.format(g_num))"
   ]
  },
  {
   "cell_type": "code",
   "execution_count": 39,
   "metadata": {},
   "outputs": [
    {
     "name": "stdout",
     "output_type": "stream",
     "text": [
      "A 5\n",
      "------\n",
      "U 5\n",
      "------\n",
      "C 5\n",
      "------\n",
      "G 6\n",
      "------\n"
     ]
    }
   ],
   "source": [
    "def seq_count(sequence, nucleotide):\n",
    "    nu_count = sequence.count(nucleotide)\n",
    "    print str(nucleotide), nu_count\n",
    "    print '------'\n",
    "\n",
    "for nucleo in ['A', 'U','C', 'G']:\n",
    "    seq_count(seq, nucleo)\n",
    "\n"
   ]
  },
  {
   "cell_type": "markdown",
   "metadata": {},
   "source": [
    " 3. Print the numbers 10 through 15, one at a time. (*Hint*: the range() function)"
   ]
  },
  {
   "cell_type": "code",
   "execution_count": null,
   "metadata": {},
   "outputs": [],
   "source": []
  },
  {
   "cell_type": "markdown",
   "metadata": {},
   "source": [
    "## Building a New List from an Old One\n",
    "\n",
    "Repeating a single action for each item in a sequence is often followed by repeatedly-appending a new item to an empty list inside a for-loop.  This append pattern looks like this:\n",
    "\n",
    "```python\n",
    "new_list = []\n",
    "for item in old_list:\n",
    "  new_item = item * 2\n",
    "  new_list.append(new_item)\n",
    "```\n",
    "\n",
    "To get used to for-loops in Python, let's use this pattern for the following exercises:"
   ]
  },
  {
   "cell_type": "markdown",
   "metadata": {},
   "source": [
    "### Exercises\n",
    "\n",
    "**Without using Numpy:**\n"
   ]
  },
  {
   "cell_type": "markdown",
   "metadata": {},
   "source": [
    "1. Using iteration, how could I capitalize the first letter of each of my friends' names?"
   ]
  },
  {
   "cell_type": "code",
   "execution_count": 18,
   "metadata": {},
   "outputs": [],
   "source": [
    "friends = ['joe', 'gina', 'mehtap', 'michael', 'peter', 'evgeny']"
   ]
  },
  {
   "cell_type": "code",
   "execution_count": 40,
   "metadata": {},
   "outputs": [
    {
     "data": {
      "text/plain": [
       "['Joe', 'Gina', 'Mehtap', 'Michael', 'Peter', 'Evgeny']"
      ]
     },
     "execution_count": 40,
     "metadata": {},
     "output_type": "execute_result"
    }
   ],
   "source": [
    "new_friends = []\n",
    "for friend in friends:\n",
    "    friend = friend.capitalize()\n",
    "    new_friends.append(friend)\n",
    "new_friends"
   ]
  },
  {
   "cell_type": "code",
   "execution_count": 41,
   "metadata": {},
   "outputs": [
    {
     "data": {
      "text/plain": [
       "['Joe', 'Gina', 'Mehtap', 'Michael', 'Peter', 'Evgeny']"
      ]
     },
     "execution_count": 41,
     "metadata": {},
     "output_type": "execute_result"
    }
   ],
   "source": [
    "map(lambda x: x.capitalize(), friends)"
   ]
  },
  {
   "cell_type": "markdown",
   "metadata": {},
   "source": [
    "2. Split this list of cities into a list (e.g. the str.split() method), then capitalize each of the cities' names."
   ]
  },
  {
   "cell_type": "code",
   "execution_count": 5,
   "metadata": {},
   "outputs": [
    {
     "data": {
      "text/plain": [
       "['paris', 'beijing', 'rabat']"
      ]
     },
     "execution_count": 5,
     "metadata": {},
     "output_type": "execute_result"
    }
   ],
   "source": [
    "capitals = 'paris beijing rabat'\n",
    "capitals.split()"
   ]
  },
  {
   "cell_type": "markdown",
   "metadata": {},
   "source": [
    "3. Convert the following list of volumes (measured in milliliters) to liters"
   ]
  },
  {
   "cell_type": "code",
   "execution_count": 6,
   "metadata": {},
   "outputs": [],
   "source": [
    "volumes_mm = [342, 267, 887, 157, 17, 223]"
   ]
  },
  {
   "cell_type": "markdown",
   "metadata": {},
   "source": [
    "3. The **str()** function turns numbers into strings.  Make a list of strings representing the values from 3 to 10 (i.e. ['3', '4', '5', ...]).\n"
   ]
  },
  {
   "cell_type": "code",
   "execution_count": null,
   "metadata": {},
   "outputs": [],
   "source": []
  },
  {
   "cell_type": "markdown",
   "metadata": {},
   "source": [
    "4. The **float()** function turns objects into ints.  Make a list of floats from the following list:"
   ]
  },
  {
   "cell_type": "code",
   "execution_count": 11,
   "metadata": {},
   "outputs": [],
   "source": [
    "mixed_data = ['3', 3.1, '4', 4.9]"
   ]
  },
  {
   "cell_type": "code",
   "execution_count": null,
   "metadata": {},
   "outputs": [],
   "source": []
  },
  {
   "cell_type": "markdown",
   "metadata": {},
   "source": [
    "\n",
    "## List Comprehensions\n",
    "\n",
    "All of the previous exercises can be done in a single line, using a **\"List comprehension\"**:\n",
    "\n",
    "```python\n",
    "new_list = [item * 2 for item in old_list]\n",
    "```\n",
    "This syntax has the advantage of being more concise when doing simple tasks.  Let's try it with the following exercises:\n"
   ]
  },
  {
   "cell_type": "markdown",
   "metadata": {},
   "source": [
    "1. Using iteration, how could I capitalize the first letter of each of my friends' names?"
   ]
  },
  {
   "cell_type": "code",
   "execution_count": null,
   "metadata": {},
   "outputs": [],
   "source": [
    "friends = ['joe', 'gina', 'mehtap', 'michael', 'peter', 'evgeny']"
   ]
  },
  {
   "cell_type": "code",
   "execution_count": 27,
   "metadata": {},
   "outputs": [
    {
     "data": {
      "text/plain": [
       "['Joe', 'Gina', 'Mehtap', 'Michael', 'Peter', 'Evgeny']"
      ]
     },
     "execution_count": 27,
     "metadata": {},
     "output_type": "execute_result"
    }
   ],
   "source": [
    "[friend.capitalize() for friend in friends]"
   ]
  },
  {
   "cell_type": "markdown",
   "metadata": {},
   "source": [
    "2. Split this list of cities into a list (e.g. the str.split() method), then capitalize each of the cities' names."
   ]
  },
  {
   "cell_type": "code",
   "execution_count": 5,
   "metadata": {},
   "outputs": [
    {
     "data": {
      "text/plain": [
       "['paris', 'beijing', 'rabat']"
      ]
     },
     "execution_count": 5,
     "metadata": {},
     "output_type": "execute_result"
    }
   ],
   "source": [
    "capitals = 'paris beijing rabat'\n",
    "capitals.split()"
   ]
  },
  {
   "cell_type": "markdown",
   "metadata": {},
   "source": [
    "3. Convert the following list of volumes (measured in milliliters) to liters"
   ]
  },
  {
   "cell_type": "code",
   "execution_count": 6,
   "metadata": {},
   "outputs": [],
   "source": [
    "volumes_mm = [342, 267, 887, 157, 17, 223]"
   ]
  },
  {
   "cell_type": "markdown",
   "metadata": {},
   "source": [
    "3. The **str()** function turns numbers into strings.  Make a list of strings representing the values from 3 to 10 (i.e. ['3', '4', '5', ...]).\n"
   ]
  },
  {
   "cell_type": "code",
   "execution_count": null,
   "metadata": {},
   "outputs": [],
   "source": []
  },
  {
   "cell_type": "markdown",
   "metadata": {},
   "source": [
    "4. The **float()** function turns objects into ints.  Make a list of floats from the following list:"
   ]
  },
  {
   "cell_type": "code",
   "execution_count": 11,
   "metadata": {},
   "outputs": [],
   "source": [
    "mixed_data = ['3', 3.1, '4', 4.9]"
   ]
  },
  {
   "cell_type": "code",
   "execution_count": null,
   "metadata": {},
   "outputs": [],
   "source": []
  },
  {
   "cell_type": "markdown",
   "metadata": {},
   "source": [
    "## Extra Exercises: The range, zip, and enumerate functions\n",
    "\n",
    "The **range()** function generates a sequence of integers:"
   ]
  },
  {
   "cell_type": "code",
   "execution_count": 14,
   "metadata": {},
   "outputs": [
    {
     "name": "stdout",
     "output_type": "stream",
     "text": [
      "0\n",
      "1\n",
      "2\n",
      "3\n"
     ]
    }
   ],
   "source": [
    "for num in range(4):\n",
    "    print(num)"
   ]
  },
  {
   "cell_type": "markdown",
   "metadata": {},
   "source": [
    "1. Calculate the square of each of the integers between 0 and 30."
   ]
  },
  {
   "cell_type": "code",
   "execution_count": 32,
   "metadata": {},
   "outputs": [
    {
     "data": {
      "text/plain": [
       "[0,\n",
       " 1,\n",
       " 2,\n",
       " 3,\n",
       " 4,\n",
       " 5,\n",
       " 6,\n",
       " 7,\n",
       " 8,\n",
       " 9,\n",
       " 10,\n",
       " 11,\n",
       " 12,\n",
       " 13,\n",
       " 14,\n",
       " 15,\n",
       " 16,\n",
       " 17,\n",
       " 18,\n",
       " 19,\n",
       " 20,\n",
       " 21,\n",
       " 22,\n",
       " 23,\n",
       " 24,\n",
       " 25,\n",
       " 26,\n",
       " 27,\n",
       " 28,\n",
       " 29,\n",
       " 30]"
      ]
     },
     "execution_count": 32,
     "metadata": {},
     "output_type": "execute_result"
    }
   ],
   "source": [
    "[num for num in range(31)]"
   ]
  },
  {
   "cell_type": "markdown",
   "metadata": {},
   "source": [
    "The **zip()** function turns takes multiple lists and turns them into one list of multiples,\n",
    "letting you iterate over multiple lists at the same time."
   ]
  },
  {
   "cell_type": "code",
   "execution_count": 15,
   "metadata": {},
   "outputs": [
    {
     "name": "stdout",
     "output_type": "stream",
     "text": [
      "Hi Judy\n",
      "Bye Cody\n"
     ]
    }
   ],
   "source": [
    "for greeting, name in zip(['Hi', 'Bye'], ['Judy', 'Cody']):\n",
    "  print(greeting, name)"
   ]
  },
  {
   "cell_type": "markdown",
   "metadata": {},
   "source": [
    "1. Make a new list that is the sum of the elements in listA and listB.  "
   ]
  },
  {
   "cell_type": "code",
   "execution_count": 2,
   "metadata": {},
   "outputs": [],
   "source": [
    "lista = [2, 3, 4, 5, 0, 0, 0, 2, 2, 0]\n",
    "listb = [0, 4, 2, 4, 5, 1, 0, 5, 3, 5]\n"
   ]
  },
  {
   "cell_type": "markdown",
   "metadata": {},
   "source": [
    "2. I have a list of dogs and a list of owners.  How do I print their names together (e.g. \"Eric: Pongo\")?"
   ]
  },
  {
   "cell_type": "code",
   "execution_count": 16,
   "metadata": {},
   "outputs": [],
   "source": [
    "dogs = ['Snuffles', 'Pongo', 'Stripes']\n",
    "owners = ['Jerry', 'Caro', 'Sean']"
   ]
  },
  {
   "cell_type": "code",
   "execution_count": null,
   "metadata": {},
   "outputs": [],
   "source": []
  },
  {
   "cell_type": "markdown",
   "metadata": {},
   "source": [
    "## Extra Extra: Dictionaries"
   ]
  },
  {
   "cell_type": "markdown",
   "metadata": {},
   "source": [
    "Dictionaries (or \"dicts\" in Python talk) are collections like lists, but instead of representing a **sequence** of values, they instead represent a **mapping** of key-value pairs.  For example, in a dictionary of dog owners, one would look up the dog's name (the **key**) and get the corresponding owner's name (the **value**).  As a result, dictionaries are not ordered by nature; it doesn't matter where an item appears in the dictionary, only what the pairing is.  \n",
    "\n",
    "Dicts are made in Python using the curly brace **{}** and colon **:**.  \n",
    "\n",
    "```python\n",
    "owners = {'Snuffles': 'Greg', 'Brownie': 'Susan', 'Tinkles': 'Jenny'}\n",
    "owners['Tinkles']\n",
    ">> 'Jenny'\n",
    "```"
   ]
  },
  {
   "cell_type": "markdown",
   "metadata": {},
   "source": [
    "**Exercises**"
   ]
  },
  {
   "cell_type": "markdown",
   "metadata": {},
   "source": [
    "1. Europe has many countries, each with its own capitol city.  Make a dictionary that gives you the capitol corresponding to a country."
   ]
  },
  {
   "cell_type": "code",
   "execution_count": null,
   "metadata": {},
   "outputs": [],
   "source": []
  },
  {
   "cell_type": "markdown",
   "metadata": {},
   "source": [
    "2. Make a dictionary of the birthday months of the people sitting next to you, so that when you look up their name it gives you the month.  Include yourself!"
   ]
  },
  {
   "cell_type": "code",
   "execution_count": null,
   "metadata": {},
   "outputs": [],
   "source": []
  },
  {
   "cell_type": "markdown",
   "metadata": {},
   "source": [
    "3. You have a list of single-character strings that represent conditions in your experiment: 'L', 'R', and 'C'.  Change those labels to 'Left', 'Right', and 'Center' in the list."
   ]
  },
  {
   "cell_type": "code",
   "execution_count": 5,
   "metadata": {},
   "outputs": [],
   "source": [
    "conditions = {'C': 'Center', 'L': 'Left', 'R': 'Right'}\n",
    "conds = ['C', 'L', 'C', 'R', 'C', 'C', 'C', 'R', 'R', 'R']"
   ]
  },
  {
   "cell_type": "code",
   "execution_count": null,
   "metadata": {},
   "outputs": [],
   "source": []
  }
 ],
 "metadata": {
  "kernelspec": {
   "display_name": "Python 2",
   "language": "python",
   "name": "python2"
  },
  "language_info": {
   "codemirror_mode": {
    "name": "ipython",
    "version": 2
   },
   "file_extension": ".py",
   "mimetype": "text/x-python",
   "name": "python",
   "nbconvert_exporter": "python",
   "pygments_lexer": "ipython2",
   "version": "2.7.15"
  }
 },
 "nbformat": 4,
 "nbformat_minor": 2
}
