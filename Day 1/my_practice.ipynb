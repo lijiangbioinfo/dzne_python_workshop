{
 "cells": [
  {
   "cell_type": "markdown",
   "metadata": {},
   "source": [
    "# Matplotlib"
   ]
  },
  {
   "cell_type": "code",
   "execution_count": 3,
   "metadata": {},
   "outputs": [],
   "source": [
    "%matplotlib inline"
   ]
  },
  {
   "cell_type": "code",
   "execution_count": 4,
   "metadata": {},
   "outputs": [],
   "source": [
    "import numpy as np\n",
    "import matplotlib.pyplot as plt\n",
    "import pandas as pd"
   ]
  },
  {
   "cell_type": "code",
   "execution_count": 5,
   "metadata": {},
   "outputs": [],
   "source": [
    "np.set_printoptions(precision = 2, suppress = True)"
   ]
  },
  {
   "cell_type": "code",
   "execution_count": 19,
   "metadata": {},
   "outputs": [
    {
     "data": {
      "text/plain": [
       "array([[10.99, 10.18, 10.42,  6.92,  6.03,  6.57],\n",
       "       [10.29, 11.53,  8.99,  5.7 ,  6.28,  6.46],\n",
       "       [ 9.8 , 10.73, 10.94,  7.09,  6.6 ,  5.53],\n",
       "       [11.12,  9.47,  9.86,  4.45,  5.17,  6.52],\n",
       "       [11.02,  9.39,  8.8 ,  6.31,  3.45,  6.43],\n",
       "       [ 9.77,  9.99, 10.21,  7.06,  6.65,  7.03],\n",
       "       [ 9.53, 11.27, 10.11,  5.94,  4.9 ,  6.26],\n",
       "       [11.42, 10.  , 11.14,  6.89,  6.33,  7.01],\n",
       "       [10.14, 10.33, 10.75,  6.42,  5.36,  5.21],\n",
       "       [ 8.9 ,  9.03, 10.31,  6.4 ,  5.45,  7.81]])"
      ]
     },
     "execution_count": 19,
     "metadata": {},
     "output_type": "execute_result"
    }
   ],
   "source": [
    "data1 = np.random.normal(10, 1, 30).reshape(10, 3)\n",
    "data2 = np.random.normal(6, 1, 30).reshape(10, 3)\n",
    "data = np.concatenate((data1, data2), axis = 1)\n",
    "data"
   ]
  },
  {
   "cell_type": "code",
   "execution_count": null,
   "metadata": {},
   "outputs": [],
   "source": [
    "data = np.around(data, decimals=2)\n",
    "data"
   ]
  },
  {
   "cell_type": "code",
   "execution_count": 20,
   "metadata": {},
   "outputs": [
    {
     "data": {
      "text/plain": [
       "dtype('float64')"
      ]
     },
     "execution_count": 20,
     "metadata": {},
     "output_type": "execute_result"
    }
   ],
   "source": [
    "data.dtype"
   ]
  },
  {
   "cell_type": "code",
   "execution_count": 8,
   "metadata": {},
   "outputs": [
    {
     "data": {
      "text/plain": [
       "(10, 6)"
      ]
     },
     "execution_count": 8,
     "metadata": {},
     "output_type": "execute_result"
    }
   ],
   "source": [
    "data.shape"
   ]
  },
  {
   "cell_type": "code",
   "execution_count": 21,
   "metadata": {},
   "outputs": [
    {
     "data": {
      "text/plain": [
       "array(['con1', 'con2', 'con3', 'exp1', 'exp2', 'exp3'], dtype='<U4')"
      ]
     },
     "execution_count": 21,
     "metadata": {},
     "output_type": "execute_result"
    }
   ],
   "source": [
    "dat_colnames = np.append(list(map(lambda x: 'con' + str(x) , range(1,4))), list(map(lambda x: 'exp' + str(x) , range(1,4))))\n",
    "dat_colnames"
   ]
  },
  {
   "cell_type": "code",
   "execution_count": 24,
   "metadata": {},
   "outputs": [
    {
     "data": {
      "text/html": [
       "<div>\n",
       "<style scoped>\n",
       "    .dataframe tbody tr th:only-of-type {\n",
       "        vertical-align: middle;\n",
       "    }\n",
       "\n",
       "    .dataframe tbody tr th {\n",
       "        vertical-align: top;\n",
       "    }\n",
       "\n",
       "    .dataframe thead th {\n",
       "        text-align: right;\n",
       "    }\n",
       "</style>\n",
       "<table border=\"1\" class=\"dataframe\">\n",
       "  <thead>\n",
       "    <tr style=\"text-align: right;\">\n",
       "      <th></th>\n",
       "      <th>con1</th>\n",
       "      <th>con2</th>\n",
       "      <th>con3</th>\n",
       "      <th>exp1</th>\n",
       "      <th>exp2</th>\n",
       "      <th>exp3</th>\n",
       "    </tr>\n",
       "  </thead>\n",
       "  <tbody>\n",
       "    <tr>\n",
       "      <th>row0</th>\n",
       "      <td>10.99</td>\n",
       "      <td>10.18</td>\n",
       "      <td>10.42</td>\n",
       "      <td>6.92</td>\n",
       "      <td>6.03</td>\n",
       "      <td>6.57</td>\n",
       "    </tr>\n",
       "    <tr>\n",
       "      <th>row1</th>\n",
       "      <td>10.29</td>\n",
       "      <td>11.53</td>\n",
       "      <td>8.99</td>\n",
       "      <td>5.70</td>\n",
       "      <td>6.28</td>\n",
       "      <td>6.46</td>\n",
       "    </tr>\n",
       "    <tr>\n",
       "      <th>row2</th>\n",
       "      <td>9.80</td>\n",
       "      <td>10.73</td>\n",
       "      <td>10.94</td>\n",
       "      <td>7.09</td>\n",
       "      <td>6.60</td>\n",
       "      <td>5.53</td>\n",
       "    </tr>\n",
       "    <tr>\n",
       "      <th>row3</th>\n",
       "      <td>11.12</td>\n",
       "      <td>9.47</td>\n",
       "      <td>9.86</td>\n",
       "      <td>4.45</td>\n",
       "      <td>5.17</td>\n",
       "      <td>6.52</td>\n",
       "    </tr>\n",
       "    <tr>\n",
       "      <th>row4</th>\n",
       "      <td>11.02</td>\n",
       "      <td>9.39</td>\n",
       "      <td>8.80</td>\n",
       "      <td>6.31</td>\n",
       "      <td>3.45</td>\n",
       "      <td>6.43</td>\n",
       "    </tr>\n",
       "    <tr>\n",
       "      <th>row5</th>\n",
       "      <td>9.77</td>\n",
       "      <td>9.99</td>\n",
       "      <td>10.21</td>\n",
       "      <td>7.06</td>\n",
       "      <td>6.65</td>\n",
       "      <td>7.03</td>\n",
       "    </tr>\n",
       "    <tr>\n",
       "      <th>row6</th>\n",
       "      <td>9.53</td>\n",
       "      <td>11.27</td>\n",
       "      <td>10.11</td>\n",
       "      <td>5.94</td>\n",
       "      <td>4.90</td>\n",
       "      <td>6.26</td>\n",
       "    </tr>\n",
       "    <tr>\n",
       "      <th>row7</th>\n",
       "      <td>11.42</td>\n",
       "      <td>10.00</td>\n",
       "      <td>11.14</td>\n",
       "      <td>6.89</td>\n",
       "      <td>6.33</td>\n",
       "      <td>7.01</td>\n",
       "    </tr>\n",
       "    <tr>\n",
       "      <th>row8</th>\n",
       "      <td>10.14</td>\n",
       "      <td>10.33</td>\n",
       "      <td>10.75</td>\n",
       "      <td>6.42</td>\n",
       "      <td>5.36</td>\n",
       "      <td>5.21</td>\n",
       "    </tr>\n",
       "    <tr>\n",
       "      <th>row9</th>\n",
       "      <td>8.90</td>\n",
       "      <td>9.03</td>\n",
       "      <td>10.31</td>\n",
       "      <td>6.40</td>\n",
       "      <td>5.45</td>\n",
       "      <td>7.81</td>\n",
       "    </tr>\n",
       "  </tbody>\n",
       "</table>\n",
       "</div>"
      ],
      "text/plain": [
       "       con1   con2   con3  exp1  exp2  exp3\n",
       "row0  10.99  10.18  10.42  6.92  6.03  6.57\n",
       "row1  10.29  11.53   8.99  5.70  6.28  6.46\n",
       "row2   9.80  10.73  10.94  7.09  6.60  5.53\n",
       "row3  11.12   9.47   9.86  4.45  5.17  6.52\n",
       "row4  11.02   9.39   8.80  6.31  3.45  6.43\n",
       "row5   9.77   9.99  10.21  7.06  6.65  7.03\n",
       "row6   9.53  11.27  10.11  5.94  4.90  6.26\n",
       "row7  11.42  10.00  11.14  6.89  6.33  7.01\n",
       "row8  10.14  10.33  10.75  6.42  5.36  5.21\n",
       "row9   8.90   9.03  10.31  6.40  5.45  7.81"
      ]
     },
     "execution_count": 24,
     "metadata": {},
     "output_type": "execute_result"
    }
   ],
   "source": [
    "data = pd.DataFrame(data, index = list(map(lambda x: 'row' + str(x), range(len(data)))), columns = dat_colnames)\n",
    "data"
   ]
  },
  {
   "cell_type": "code",
   "execution_count": 26,
   "metadata": {},
   "outputs": [
    {
     "data": {
      "text/html": [
       "<div>\n",
       "<style scoped>\n",
       "    .dataframe tbody tr th:only-of-type {\n",
       "        vertical-align: middle;\n",
       "    }\n",
       "\n",
       "    .dataframe tbody tr th {\n",
       "        vertical-align: top;\n",
       "    }\n",
       "\n",
       "    .dataframe thead th {\n",
       "        text-align: right;\n",
       "    }\n",
       "</style>\n",
       "<table border=\"1\" class=\"dataframe\">\n",
       "  <thead>\n",
       "    <tr style=\"text-align: right;\">\n",
       "      <th></th>\n",
       "      <th>con1</th>\n",
       "      <th>con2</th>\n",
       "      <th>con3</th>\n",
       "      <th>exp1</th>\n",
       "      <th>exp2</th>\n",
       "      <th>exp3</th>\n",
       "    </tr>\n",
       "  </thead>\n",
       "  <tbody>\n",
       "    <tr>\n",
       "      <th>row0</th>\n",
       "      <td>10.99</td>\n",
       "      <td>10.18</td>\n",
       "      <td>10.42</td>\n",
       "      <td>6.92</td>\n",
       "      <td>6.03</td>\n",
       "      <td>6.57</td>\n",
       "    </tr>\n",
       "    <tr>\n",
       "      <th>row1</th>\n",
       "      <td>10.29</td>\n",
       "      <td>11.53</td>\n",
       "      <td>8.99</td>\n",
       "      <td>5.70</td>\n",
       "      <td>6.28</td>\n",
       "      <td>6.46</td>\n",
       "    </tr>\n",
       "    <tr>\n",
       "      <th>row2</th>\n",
       "      <td>9.80</td>\n",
       "      <td>10.73</td>\n",
       "      <td>10.94</td>\n",
       "      <td>7.09</td>\n",
       "      <td>6.60</td>\n",
       "      <td>5.53</td>\n",
       "    </tr>\n",
       "    <tr>\n",
       "      <th>row3</th>\n",
       "      <td>11.12</td>\n",
       "      <td>9.47</td>\n",
       "      <td>9.86</td>\n",
       "      <td>4.45</td>\n",
       "      <td>5.17</td>\n",
       "      <td>6.52</td>\n",
       "    </tr>\n",
       "    <tr>\n",
       "      <th>row4</th>\n",
       "      <td>11.02</td>\n",
       "      <td>9.39</td>\n",
       "      <td>8.80</td>\n",
       "      <td>6.31</td>\n",
       "      <td>3.45</td>\n",
       "      <td>6.43</td>\n",
       "    </tr>\n",
       "    <tr>\n",
       "      <th>row5</th>\n",
       "      <td>9.77</td>\n",
       "      <td>9.99</td>\n",
       "      <td>10.21</td>\n",
       "      <td>7.06</td>\n",
       "      <td>6.65</td>\n",
       "      <td>7.03</td>\n",
       "    </tr>\n",
       "    <tr>\n",
       "      <th>row6</th>\n",
       "      <td>9.53</td>\n",
       "      <td>11.27</td>\n",
       "      <td>10.11</td>\n",
       "      <td>5.94</td>\n",
       "      <td>4.90</td>\n",
       "      <td>6.26</td>\n",
       "    </tr>\n",
       "    <tr>\n",
       "      <th>row7</th>\n",
       "      <td>11.42</td>\n",
       "      <td>10.00</td>\n",
       "      <td>11.14</td>\n",
       "      <td>6.89</td>\n",
       "      <td>6.33</td>\n",
       "      <td>7.01</td>\n",
       "    </tr>\n",
       "    <tr>\n",
       "      <th>row8</th>\n",
       "      <td>10.14</td>\n",
       "      <td>10.33</td>\n",
       "      <td>10.75</td>\n",
       "      <td>6.42</td>\n",
       "      <td>5.36</td>\n",
       "      <td>5.21</td>\n",
       "    </tr>\n",
       "    <tr>\n",
       "      <th>row9</th>\n",
       "      <td>8.90</td>\n",
       "      <td>9.03</td>\n",
       "      <td>10.31</td>\n",
       "      <td>6.40</td>\n",
       "      <td>5.45</td>\n",
       "      <td>7.81</td>\n",
       "    </tr>\n",
       "  </tbody>\n",
       "</table>\n",
       "</div>"
      ],
      "text/plain": [
       "       con1   con2   con3  exp1  exp2  exp3\n",
       "row0  10.99  10.18  10.42  6.92  6.03  6.57\n",
       "row1  10.29  11.53   8.99  5.70  6.28  6.46\n",
       "row2   9.80  10.73  10.94  7.09  6.60  5.53\n",
       "row3  11.12   9.47   9.86  4.45  5.17  6.52\n",
       "row4  11.02   9.39   8.80  6.31  3.45  6.43\n",
       "row5   9.77   9.99  10.21  7.06  6.65  7.03\n",
       "row6   9.53  11.27  10.11  5.94  4.90  6.26\n",
       "row7  11.42  10.00  11.14  6.89  6.33  7.01\n",
       "row8  10.14  10.33  10.75  6.42  5.36  5.21\n",
       "row9   8.90   9.03  10.31  6.40  5.45  7.81"
      ]
     },
     "execution_count": 26,
     "metadata": {},
     "output_type": "execute_result"
    }
   ],
   "source": [
    "data.round(decimals=2)\n",
    "data"
   ]
  },
  {
   "cell_type": "code",
   "execution_count": 22,
   "metadata": {},
   "outputs": [
    {
     "data": {
      "text/plain": [
       "\u001b[0;31mInit signature:\u001b[0m \u001b[0mpd\u001b[0m\u001b[0;34m.\u001b[0m\u001b[0mDataFrame\u001b[0m\u001b[0;34m(\u001b[0m\u001b[0mdata\u001b[0m\u001b[0;34m=\u001b[0m\u001b[0;32mNone\u001b[0m\u001b[0;34m,\u001b[0m \u001b[0mindex\u001b[0m\u001b[0;34m=\u001b[0m\u001b[0;32mNone\u001b[0m\u001b[0;34m,\u001b[0m \u001b[0mcolumns\u001b[0m\u001b[0;34m=\u001b[0m\u001b[0;32mNone\u001b[0m\u001b[0;34m,\u001b[0m \u001b[0mdtype\u001b[0m\u001b[0;34m=\u001b[0m\u001b[0;32mNone\u001b[0m\u001b[0;34m,\u001b[0m \u001b[0mcopy\u001b[0m\u001b[0;34m=\u001b[0m\u001b[0;32mFalse\u001b[0m\u001b[0;34m)\u001b[0m\u001b[0;34m\u001b[0m\u001b[0;34m\u001b[0m\u001b[0m\n",
       "\u001b[0;31mDocstring:\u001b[0m     \n",
       "Two-dimensional size-mutable, potentially heterogeneous tabular data\n",
       "structure with labeled axes (rows and columns). Arithmetic operations\n",
       "align on both row and column labels. Can be thought of as a dict-like\n",
       "container for Series objects. The primary pandas data structure.\n",
       "\n",
       "Parameters\n",
       "----------\n",
       "data : ndarray (structured or homogeneous), Iterable, dict, or DataFrame\n",
       "    Dict can contain Series, arrays, constants, or list-like objects\n",
       "\n",
       "    .. versionchanged :: 0.23.0\n",
       "       If data is a dict, argument order is maintained for Python 3.6\n",
       "       and later.\n",
       "\n",
       "index : Index or array-like\n",
       "    Index to use for resulting frame. Will default to RangeIndex if\n",
       "    no indexing information part of input data and no index provided\n",
       "columns : Index or array-like\n",
       "    Column labels to use for resulting frame. Will default to\n",
       "    RangeIndex (0, 1, 2, ..., n) if no column labels are provided\n",
       "dtype : dtype, default None\n",
       "    Data type to force. Only a single dtype is allowed. If None, infer\n",
       "copy : boolean, default False\n",
       "    Copy data from inputs. Only affects DataFrame / 2d ndarray input\n",
       "\n",
       "See Also\n",
       "--------\n",
       "DataFrame.from_records : Constructor from tuples, also record arrays.\n",
       "DataFrame.from_dict : From dicts of Series, arrays, or dicts.\n",
       "DataFrame.from_items : From sequence of (key, value) pairs\n",
       "    pandas.read_csv, pandas.read_table, pandas.read_clipboard.\n",
       "\n",
       "Examples\n",
       "--------\n",
       "Constructing DataFrame from a dictionary.\n",
       "\n",
       ">>> d = {'col1': [1, 2], 'col2': [3, 4]}\n",
       ">>> df = pd.DataFrame(data=d)\n",
       ">>> df\n",
       "   col1  col2\n",
       "0     1     3\n",
       "1     2     4\n",
       "\n",
       "Notice that the inferred dtype is int64.\n",
       "\n",
       ">>> df.dtypes\n",
       "col1    int64\n",
       "col2    int64\n",
       "dtype: object\n",
       "\n",
       "To enforce a single dtype:\n",
       "\n",
       ">>> df = pd.DataFrame(data=d, dtype=np.int8)\n",
       ">>> df.dtypes\n",
       "col1    int8\n",
       "col2    int8\n",
       "dtype: object\n",
       "\n",
       "Constructing DataFrame from numpy ndarray:\n",
       "\n",
       ">>> df2 = pd.DataFrame(np.array([[1, 2, 3], [4, 5, 6], [7, 8, 9]]),\n",
       "...                    columns=['a', 'b', 'c'])\n",
       ">>> df2\n",
       "   a  b  c\n",
       "0  1  2  3\n",
       "1  4  5  6\n",
       "2  7  8  9\n",
       "\u001b[0;31mFile:\u001b[0m           ~/miniconda3/lib/python3.7/site-packages/pandas/core/frame.py\n",
       "\u001b[0;31mType:\u001b[0m           type\n",
       "\u001b[0;31mSubclasses:\u001b[0m     SparseDataFrame, SubclassedDataFrame\n"
      ]
     },
     "metadata": {},
     "output_type": "display_data"
    }
   ],
   "source": [
    "pd.DataFrame?"
   ]
  },
  {
   "cell_type": "code",
   "execution_count": 32,
   "metadata": {},
   "outputs": [
    {
     "data": {
      "text/plain": [
       "(10, 6)"
      ]
     },
     "execution_count": 32,
     "metadata": {},
     "output_type": "execute_result"
    }
   ],
   "source": [
    "data.shape"
   ]
  },
  {
   "cell_type": "code",
   "execution_count": 29,
   "metadata": {},
   "outputs": [
    {
     "data": {
      "text/plain": [
       "<function matplotlib.pyplot.show(*args, **kw)>"
      ]
     },
     "execution_count": 29,
     "metadata": {},
     "output_type": "execute_result"
    },
    {
     "data": {
      "image/png": "[encoded data removed]",
      "text/plain": [
       "<Figure size 432x288 with 1 Axes>"
      ]
     },
     "metadata": {
      "needs_background": "light"
     },
     "output_type": "display_data"
    }
   ],
   "source": [
    "plt.hist(data)\n",
    "plt.show"
   ]
  },
  {
   "cell_type": "code",
   "execution_count": null,
   "metadata": {},
   "outputs": [],
   "source": [
    "\n",
    " np.append(, list(map(lambda x: 'con2' + str(x) , range(1,4)))]"
   ]
  },
  {
   "cell_type": "code",
   "execution_count": null,
   "metadata": {},
   "outputs": [],
   "source": [
    "list('rep' + range(1, 4))"
   ]
  },
  {
   "cell_type": "code",
   "execution_count": null,
   "metadata": {},
   "outputs": [],
   "source": [
    "data1.reshape(5, 6)"
   ]
  },
  {
   "cell_type": "code",
   "execution_count": null,
   "metadata": {},
   "outputs": [],
   "source": [
    "np.random.randint?"
   ]
  }
 ],
 "metadata": {
  "kernelspec": {
   "display_name": "Python 3",
   "language": "python",
   "name": "python3"
  },
  "language_info": {
   "codemirror_mode": {
    "name": "ipython",
    "version": 3
   },
   "file_extension": ".py",
   "mimetype": "text/x-python",
   "name": "python",
   "nbconvert_exporter": "python",
   "pygments_lexer": "ipython3",
   "version": "3.7.3"
  }
 },
 "nbformat": 4,
 "nbformat_minor": 2
}
