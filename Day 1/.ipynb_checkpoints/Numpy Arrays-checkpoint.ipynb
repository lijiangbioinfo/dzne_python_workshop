{
 "cells": [
  {
   "cell_type": "code",
   "execution_count": 6,
   "metadata": {
    "colab": {},
    "colab_type": "code",
    "id": "dnw0a9z4Z8Yg"
   },
   "outputs": [],
   "source": [
    "import numpy as np"
   ]
  },
  {
   "cell_type": "markdown",
   "metadata": {
    "colab_type": "text",
    "id": "JeyJzQJEZ8Yo"
   },
   "source": [
    "## Arrays and Vectorization\n",
    "\n",
    "**Arrays** are sequences of same-type data points (most-often numbers).  Numpy allows us to work with the sequence without writing a for-loop, using a technique called **vectorization**.  \n",
    "\n",
    "Besides an **array()** class, Numpy also includes a lot of math functions, which makes analysis much easier.  Let's try some out!"
   ]
  },
  {
   "cell_type": "markdown",
   "metadata": {
    "colab_type": "text",
    "id": "1iadoTdTZ8Yp"
   },
   "source": [
    "## Numpy Exercises"
   ]
  },
  {
   "cell_type": "markdown",
   "metadata": {
    "colab_type": "text",
    "id": "TiadUOo7Z8Y9"
   },
   "source": [
    "### Building Arrays\n",
    "\n",
    "Numpy has some convenient array-building functions as well.  Some commonly-used are examples are **arange()**, **linspace()**, **zeros()**, and the random number generation functions in **random**.\n",
    "\n",
    "| function | Purpose |  Example |\n",
    "| :-----------: | :-------------: | :-------------: |\n",
    "| **np.arange()**                  | Makes an array with all the integers between two values | np.arange(2, 7) |\n",
    "| **np.linspace()**               | Makes a specific-length array |  np.linspace(2, 3, 10) |\n",
    "| **np.zeros()**                    | Makes an array of all zeros | np.zeros(5) |\n",
    "| **np.ones()**                     | Makes an array of all ones | np.ones(3) |\n",
    "| **np.random.random()** | Makes an array of random numbers | np.random.random(100) |\n",
    "| **np.random.randn()**     | Makes an array of normally-distributed random numbers | np.random.randn(100) |\n"
   ]
  },
  {
   "cell_type": "markdown",
   "metadata": {
    "colab_type": "text",
    "id": "yhtqOOlKZ8ZC"
   },
   "source": [
    "1. Make an array containing the numbers 1 to 15."
   ]
  },
  {
   "cell_type": "code",
   "execution_count": 7,
   "metadata": {
    "colab": {},
    "colab_type": "code",
    "id": "lzwPrnZcZ8ZE"
   },
   "outputs": [
    {
     "data": {
      "text/plain": [
       "array([ 1,  2,  3,  4,  5,  6,  7,  8,  9, 10, 11, 12, 13, 14, 15])"
      ]
     },
     "execution_count": 7,
     "metadata": {},
     "output_type": "execute_result"
    }
   ],
   "source": [
    "np.arange(1, 16)"
   ]
  },
  {
   "cell_type": "markdown",
   "metadata": {
    "colab_type": "text",
    "id": "15ZzOLSPZ8ZI"
   },
   "source": [
    "2. Make an array containing 20 zeros."
   ]
  },
  {
   "cell_type": "code",
   "execution_count": 8,
   "metadata": {
    "colab": {},
    "colab_type": "code",
    "id": "eNGUx1K0Z8ZI"
   },
   "outputs": [
    {
     "data": {
      "text/plain": [
       "array([0., 0., 0., 0., 0., 0., 0., 0., 0., 0., 0., 0., 0., 0., 0., 0., 0.,\n",
       "       0., 0., 0.])"
      ]
     },
     "execution_count": 8,
     "metadata": {},
     "output_type": "execute_result"
    }
   ],
   "source": [
    "np.zeros(20)"
   ]
  },
  {
   "cell_type": "markdown",
   "metadata": {
    "colab_type": "text",
    "id": "TjRMDeh1Z8ZL"
   },
   "source": [
    "3. Make an array contain 20 ones!"
   ]
  },
  {
   "cell_type": "code",
   "execution_count": 9,
   "metadata": {
    "colab": {},
    "colab_type": "code",
    "id": "J3Y7BeuYZ8ZM"
   },
   "outputs": [
    {
     "data": {
      "text/plain": [
       "array([1., 1., 1., 1., 1., 1., 1., 1., 1., 1., 1., 1., 1., 1., 1., 1., 1.,\n",
       "       1., 1., 1.])"
      ]
     },
     "execution_count": 9,
     "metadata": {},
     "output_type": "execute_result"
    }
   ],
   "source": [
    "np.ones(20)"
   ]
  },
  {
   "cell_type": "markdown",
   "metadata": {
    "colab_type": "text",
    "id": "dvzWUJS_Z8ZO"
   },
   "source": [
    "4. Generate an array of 10 random numbers from Numpy's **random** submodule, using any function you want."
   ]
  },
  {
   "cell_type": "code",
   "execution_count": 17,
   "metadata": {
    "colab": {},
    "colab_type": "code",
    "id": "_W3Xjv_BZ8ZP"
   },
   "outputs": [
    {
     "data": {
      "text/plain": [
       "array([8, 4, 7, 7, 5, 2, 7, 8, 9, 2])"
      ]
     },
     "execution_count": 17,
     "metadata": {},
     "output_type": "execute_result"
    }
   ],
   "source": [
    "np.random.randint(1, 10, 10)"
   ]
  },
  {
   "cell_type": "code",
   "execution_count": 18,
   "metadata": {},
   "outputs": [
    {
     "data": {
      "text/plain": [
       "array([0.37454012, 0.95071431, 0.73199394, 0.59865848, 0.15601864,\n",
       "       0.15599452, 0.05808361, 0.86617615, 0.60111501, 0.70807258])"
      ]
     },
     "execution_count": 18,
     "metadata": {},
     "output_type": "execute_result"
    }
   ],
   "source": [
    "np.random.seed(42) # set seed to repeat\n",
    "np.random.random(10)"
   ]
  },
  {
   "cell_type": "code",
   "execution_count": 14,
   "metadata": {},
   "outputs": [
    {
     "data": {
      "text/plain": [
       "array([0.21741639, 0.08930503, 0.40141319, 0.35598578, 0.41893934,\n",
       "       0.23097354, 0.40016929, 0.78238257, 0.79619981, 0.24631487])"
      ]
     },
     "execution_count": 14,
     "metadata": {},
     "output_type": "execute_result"
    }
   ],
   "source": [
    "np.random.random(10)"
   ]
  },
  {
   "cell_type": "markdown",
   "metadata": {
    "colab_type": "text",
    "id": "hidaeheydcnI"
   },
   "source": [
    "## Statistics Methods on Arrays\n",
    "\n",
    "Arrays have many useful math methods.  For example, to get the mean of an array of numbers:\n",
    "\n",
    "```python\n",
    "data = np.random.random(100)\n",
    "data.mean()\n",
    "```"
   ]
  },
  {
   "cell_type": "markdown",
   "metadata": {
    "colab_type": "text",
    "id": "MGk0swf7d8v2"
   },
   "source": [
    "**Exercise**: Calculate the statistics on the following numbers:"
   ]
  },
  {
   "cell_type": "code",
   "execution_count": 3,
   "metadata": {
    "colab": {
     "base_uri": "https://localhost:8080/",
     "height": 34
    },
    "colab_type": "code",
    "id": "D1Y4IcKrdvUS",
    "outputId": "5298642f-ebaa-49e1-b231-58bd624e5706"
   },
   "outputs": [
    {
     "data": {
      "text/plain": [
       "array([2, 3, 4, 5, 6])"
      ]
     },
     "execution_count": 3,
     "metadata": {
      "tags": []
     },
     "output_type": "execute_result"
    }
   ],
   "source": [
    "data = np.arange(2, 7)\n",
    "data"
   ]
  },
  {
   "cell_type": "markdown",
   "metadata": {
    "colab_type": "text",
    "id": "JM-X308-Z8ZS"
   },
   "source": [
    "1. Get the mean of the data."
   ]
  },
  {
   "cell_type": "code",
   "execution_count": null,
   "metadata": {
    "colab": {},
    "colab_type": "code",
    "id": "pbzT3Zh4Z8ZS"
   },
   "outputs": [],
   "source": []
  },
  {
   "cell_type": "markdown",
   "metadata": {
    "colab_type": "text",
    "id": "gbsNfpFZZ8ZW"
   },
   "source": [
    "2. What is the sum of the data?"
   ]
  },
  {
   "cell_type": "code",
   "execution_count": null,
   "metadata": {
    "colab": {},
    "colab_type": "code",
    "id": "aXvRm3hGgpwK"
   },
   "outputs": [],
   "source": []
  },
  {
   "cell_type": "markdown",
   "metadata": {
    "colab_type": "text",
    "id": "eJWqrZG1Z8ZX"
   },
   "source": [
    "3. The maximum of the data?"
   ]
  },
  {
   "cell_type": "code",
   "execution_count": null,
   "metadata": {
    "colab": {},
    "colab_type": "code",
    "id": "qSnBsjJXgtd-"
   },
   "outputs": [],
   "source": []
  },
  {
   "cell_type": "markdown",
   "metadata": {
    "colab_type": "text",
    "id": "KysuOALKZ8ZZ"
   },
   "source": [
    "4. The standard deviation of the data?"
   ]
  },
  {
   "cell_type": "code",
   "execution_count": null,
   "metadata": {
    "colab": {},
    "colab_type": "code",
    "id": "LMjhsHzlZ8Za"
   },
   "outputs": [],
   "source": []
  },
  {
   "cell_type": "markdown",
   "metadata": {
    "colab_type": "text",
    "id": "lVjmHfdIeaT3"
   },
   "source": [
    "## Statistics Functions on Arrays\n",
    "\n",
    "Numpy also has many useful statistics **functions**.  These take an array as an input and can be found inside the **np** library.  Sometimes, the same functionality can be found both as a Numpy function  and an array method, giving you the choice of how you'd like to use it.  \n",
    "\n",
    "\n",
    "For example, the following **method**:\n",
    "\n",
    "\n",
    "```python\n",
    "data = np.random.random(100)\n",
    "data.mean()\n",
    "```\n",
    "\n",
    "can also be used as a **function**:\n",
    "\n",
    "\n",
    "```python\n",
    "data = np.random.random(100)\n",
    "np.mean(data)\n",
    "```"
   ]
  },
  {
   "cell_type": "markdown",
   "metadata": {
    "colab_type": "text",
    "id": "dvxWENoKfU63"
   },
   "source": [
    "**Exercise**: Calculate the statistics on the following numbers, this time using the **function** version of the previous methods."
   ]
  },
  {
   "cell_type": "code",
   "execution_count": null,
   "metadata": {
    "colab": {
     "base_uri": "https://localhost:8080/",
     "height": 34
    },
    "colab_type": "code",
    "id": "zK-gBedWfU66",
    "outputId": "5298642f-ebaa-49e1-b231-58bd624e5706"
   },
   "outputs": [
    {
     "data": {
      "text/plain": [
       "array([2, 3, 4, 5, 6])"
      ]
     },
     "execution_count": 3,
     "metadata": {
      "tags": []
     },
     "output_type": "execute_result"
    }
   ],
   "source": [
    "data = np.arange(2, 7)\n",
    "data"
   ]
  },
  {
   "cell_type": "markdown",
   "metadata": {
    "colab_type": "text",
    "id": "wU9eR-g3fU7C"
   },
   "source": [
    "1. Get the mean of the data."
   ]
  },
  {
   "cell_type": "code",
   "execution_count": null,
   "metadata": {
    "colab": {},
    "colab_type": "code",
    "id": "1jPswldbfU7E"
   },
   "outputs": [],
   "source": []
  },
  {
   "cell_type": "markdown",
   "metadata": {
    "colab_type": "text",
    "id": "AGlnNDHIfU7G"
   },
   "source": [
    "2. What is the sum of the data?"
   ]
  },
  {
   "cell_type": "code",
   "execution_count": null,
   "metadata": {
    "colab": {},
    "colab_type": "code",
    "id": "APSVzGrufU7I"
   },
   "outputs": [],
   "source": []
  },
  {
   "cell_type": "markdown",
   "metadata": {
    "colab_type": "text",
    "id": "EOLmR39hg-_d"
   },
   "source": [
    "3. What is the minimum of the data?"
   ]
  },
  {
   "cell_type": "code",
   "execution_count": null,
   "metadata": {
    "colab": {},
    "colab_type": "code",
    "id": "fuNClX8jhF2D"
   },
   "outputs": [],
   "source": []
  },
  {
   "cell_type": "markdown",
   "metadata": {
    "colab_type": "text",
    "id": "yHW6AmYRfU7J"
   },
   "source": [
    "4. The standard deviation?"
   ]
  },
  {
   "cell_type": "code",
   "execution_count": null,
   "metadata": {
    "colab": {},
    "colab_type": "code",
    "id": "nEBQ9LMifU7K"
   },
   "outputs": [],
   "source": []
  },
  {
   "cell_type": "markdown",
   "metadata": {
    "colab_type": "text",
    "id": "sXa5LJR3fkms"
   },
   "source": [
    "## Arithmetic with Arrays\n",
    "\n",
    "Arrays can also be added, subtracted, multiplied, and divided.  \n",
    "\n",
    "For example, to add 10 to all values in an array:\n",
    "\n",
    "```python\n",
    "data = np.random.randn(5)\n",
    "print(data)\n",
    "print(data + 10)\n",
    "```\n",
    "\n",
    "Here is multiplying two arrays together: \n",
    "\n",
    "```python\n",
    "print(data )\n",
    "print(data * data)\n",
    "```\n",
    "\n"
   ]
  },
  {
   "cell_type": "markdown",
   "metadata": {
    "colab_type": "text",
    "id": "GNlkeFb4gdNB"
   },
   "source": [
    "**Exercises**: Modify the following arrays using the math operators  (+, -, *, /)"
   ]
  },
  {
   "cell_type": "code",
   "execution_count": 7,
   "metadata": {
    "colab": {
     "base_uri": "https://localhost:8080/",
     "height": 34
    },
    "colab_type": "code",
    "id": "YL7Gcz6riHk3",
    "outputId": "e80f1a14-3b99-4637-f5ea-a00d1bf5aa6c"
   },
   "outputs": [
    {
     "data": {
      "text/plain": [
       "array([-3, -2, -1,  0,  1,  2,  3,  4])"
      ]
     },
     "execution_count": 7,
     "metadata": {
      "tags": []
     },
     "output_type": "execute_result"
    }
   ],
   "source": [
    "data = np.arange(-3, 5)\n",
    "data"
   ]
  },
  {
   "cell_type": "markdown",
   "metadata": {
    "colab_type": "text",
    "id": "qbxwK2fbgCDu"
   },
   "source": [
    "1. Multiply the data by 100"
   ]
  },
  {
   "cell_type": "code",
   "execution_count": null,
   "metadata": {
    "colab": {},
    "colab_type": "code",
    "id": "ZVnBgjboiNaE"
   },
   "outputs": [],
   "source": []
  },
  {
   "cell_type": "markdown",
   "metadata": {
    "colab_type": "text",
    "id": "jPgqsy1IiNt9"
   },
   "source": [
    "2. Add 40 to each value in the array."
   ]
  },
  {
   "cell_type": "code",
   "execution_count": null,
   "metadata": {
    "colab": {},
    "colab_type": "code",
    "id": "_5Sfk2BPiQtS"
   },
   "outputs": [],
   "source": []
  },
  {
   "cell_type": "markdown",
   "metadata": {
    "colab_type": "text",
    "id": "imSMnB0riRLv"
   },
   "source": [
    "3. Divide the numbers by 100"
   ]
  },
  {
   "cell_type": "code",
   "execution_count": null,
   "metadata": {
    "colab": {},
    "colab_type": "code",
    "id": "s2yAdtB5iU_S"
   },
   "outputs": [],
   "source": []
  },
  {
   "cell_type": "markdown",
   "metadata": {
    "colab_type": "text",
    "id": "3A41TFUSiXss"
   },
   "source": [
    "4. Subtract the data from itself."
   ]
  },
  {
   "cell_type": "code",
   "execution_count": null,
   "metadata": {
    "colab": {},
    "colab_type": "code",
    "id": "4GGICAy-id7t"
   },
   "outputs": [],
   "source": []
  },
  {
   "cell_type": "markdown",
   "metadata": {
    "colab_type": "text",
    "id": "uomV6dEciplB"
   },
   "source": [
    "## Extra Exercises"
   ]
  },
  {
   "cell_type": "markdown",
   "metadata": {
    "colab_type": "text",
    "id": "HZqr2Eq6iyoF"
   },
   "source": [
    "### Exercise: Other math functions"
   ]
  },
  {
   "cell_type": "markdown",
   "metadata": {
    "colab_type": "text",
    "id": "DFwChLniiyMe"
   },
   "source": [
    "1. Calculate the square of all the numbers from 0 to 8."
   ]
  },
  {
   "cell_type": "code",
   "execution_count": null,
   "metadata": {
    "colab": {},
    "colab_type": "code",
    "id": "fmDi3vaDi6-Y"
   },
   "outputs": [],
   "source": []
  },
  {
   "cell_type": "markdown",
   "metadata": {
    "colab_type": "text",
    "id": "l9cIn7KYi7Q3"
   },
   "source": [
    "2. Calculate the square roots of all the numbers from 0 to 8."
   ]
  },
  {
   "cell_type": "code",
   "execution_count": null,
   "metadata": {
    "colab": {},
    "colab_type": "code",
    "id": "0FK2dRjIi-zW"
   },
   "outputs": [],
   "source": []
  },
  {
   "cell_type": "markdown",
   "metadata": {
    "colab_type": "text",
    "id": "QzT4DbVcjEG2"
   },
   "source": [
    "3. Make an array of 20 values, all of them 2's."
   ]
  },
  {
   "cell_type": "code",
   "execution_count": null,
   "metadata": {
    "colab": {},
    "colab_type": "code",
    "id": "pNduEem7jLVa"
   },
   "outputs": [],
   "source": []
  },
  {
   "cell_type": "markdown",
   "metadata": {
    "colab_type": "text",
    "id": "TB70XLfvjrX-"
   },
   "source": [
    "4. Subtract the mean of the array from each element in the array (a.k.a. \"mean-centering\" the values)"
   ]
  },
  {
   "cell_type": "code",
   "execution_count": 8,
   "metadata": {
    "colab": {
     "base_uri": "https://localhost:8080/",
     "height": 87
    },
    "colab_type": "code",
    "id": "k63kx1QnjslL",
    "outputId": "b9300a20-590c-4164-8b35-4d6f651f847c"
   },
   "outputs": [
    {
     "data": {
      "text/plain": [
       "array([-0.52881442,  0.2053102 , -0.62343832,  1.6985349 ,  1.31156082,\n",
       "        0.585077  , -1.4971368 , -0.58857981,  0.7222168 , -1.52160601,\n",
       "       -2.1574803 , -0.47017442, -1.17701195,  0.24355345, -1.29298196,\n",
       "       -0.12360317, -1.83561425, -0.49679985, -0.17241933,  1.43493667])"
      ]
     },
     "execution_count": 8,
     "metadata": {
      "tags": []
     },
     "output_type": "execute_result"
    }
   ],
   "source": [
    "data = np.random.randn(20)\n",
    "data"
   ]
  },
  {
   "cell_type": "markdown",
   "metadata": {
    "colab_type": "text",
    "id": "hPWZnQJlZ8Z3"
   },
   "source": [
    "### Translating Algorithms into Code"
   ]
  },
  {
   "cell_type": "markdown",
   "metadata": {
    "colab_type": "text",
    "id": "E5953XipZ8Z4"
   },
   "source": [
    "Calculate the standard deviation of an array's values, without using the numpy.std() function.  (Formula can be found here: http://www.mathsisfun.com/data/standard-deviation-formulas.html)"
   ]
  },
  {
   "cell_type": "markdown",
   "metadata": {
    "colab_type": "text",
    "id": "N9URKQmUZ8Z5"
   },
   "source": [
    "1. Work out the Mean (the simple average of the numbers)\n",
    "2. Then for each number: subtract the Mean and square the result\n",
    "3. Then work out the mean of those squared differences.\n",
    "4. Take the square root of that and we are done!\n"
   ]
  },
  {
   "cell_type": "code",
   "execution_count": null,
   "metadata": {
    "colab": {},
    "colab_type": "code",
    "id": "Rtkw7KeVZ8Z5"
   },
   "outputs": [],
   "source": [
    "data = np.random.randn(100)\n"
   ]
  }
 ],
 "metadata": {
  "colab": {
   "collapsed_sections": [],
   "name": "Copy of Vectorization.ipynb",
   "provenance": [],
   "version": "0.3.2"
  },
  "kernelspec": {
   "display_name": "Python 3",
   "language": "python",
   "name": "python3"
  },
  "language_info": {
   "codemirror_mode": {
    "name": "ipython",
    "version": 3
   },
   "file_extension": ".py",
   "mimetype": "text/x-python",
   "name": "python",
   "nbconvert_exporter": "python",
   "pygments_lexer": "ipython3",
   "version": "3.7.3"
  }
 },
 "nbformat": 4,
 "nbformat_minor": 2
}
