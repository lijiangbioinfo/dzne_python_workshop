{
 "cells": [
  {
   "cell_type": "markdown",
   "metadata": {},
   "source": [
    "## Iteration: Automating steps with for-loops\n",
    "\n",
    "Repeating a single action for each item in a sequence is often done by repeatedly-appending a new item to an empty list inside a for-loop.  This append idiom looks like this:\n",
    "\n",
    "```python\n",
    "new_list = []\n",
    "for item in old_list:\n",
    "  new_item = item * 2\n",
    "  new_list.append(new_item)\n",
    "```\n",
    "\n",
    "To get used to for-loops in Python, let's use this pattern for the following exercises:"
   ]
  },
  {
   "cell_type": "markdown",
   "metadata": {},
   "source": [
    "### Exercises\n"
   ]
  },
  {
   "cell_type": "markdown",
   "metadata": {},
   "source": [
    "1. Using iteration, how could I capitalize the first letter of each of my friends' names?"
   ]
  },
  {
   "cell_type": "code",
   "execution_count": null,
   "metadata": {},
   "outputs": [],
   "source": [
    "friends = ['joe', 'gina', 'mehtap', 'michael', 'peter', 'evgeny']"
   ]
  },
  {
   "cell_type": "code",
   "execution_count": null,
   "metadata": {},
   "outputs": [],
   "source": []
  },
  {
   "cell_type": "markdown",
   "metadata": {},
   "source": [
    "2. Split this list of cities into a list (e.g. the str.split() method), then capitalize each of the cities' names."
   ]
  },
  {
   "cell_type": "code",
   "execution_count": 5,
   "metadata": {},
   "outputs": [
    {
     "data": {
      "text/plain": [
       "['paris', 'beijing', 'rabat']"
      ]
     },
     "execution_count": 5,
     "metadata": {},
     "output_type": "execute_result"
    }
   ],
   "source": [
    "capitals = 'paris beijing rabat'\n",
    "capitals.split()"
   ]
  },
  {
   "cell_type": "markdown",
   "metadata": {},
   "source": [
    "3. Convert the following list of volumes (measured in milliliters) to liters"
   ]
  },
  {
   "cell_type": "code",
   "execution_count": 6,
   "metadata": {},
   "outputs": [],
   "source": [
    "volumes_mm = [342, 267, 887, 157, 17, 223]"
   ]
  },
  {
   "cell_type": "markdown",
   "metadata": {},
   "source": [
    "3. The **str()** function turns numbers into strings.  Make a list of strings representing the values from 3 to 10 (i.e. ['3', '4', '5', ...]).\n"
   ]
  },
  {
   "cell_type": "code",
   "execution_count": null,
   "metadata": {},
   "outputs": [],
   "source": []
  },
  {
   "cell_type": "markdown",
   "metadata": {},
   "source": [
    "4. The **float()** function turns objects into ints.  Make a list of floats from the following list:"
   ]
  },
  {
   "cell_type": "code",
   "execution_count": 11,
   "metadata": {},
   "outputs": [],
   "source": [
    "mixed_data = ['3', 3.1, '4', 4.9]"
   ]
  },
  {
   "cell_type": "markdown",
   "metadata": {},
   "source": [
    "1. Using iteration, how could I capitalize the first letter of each of my friends' names?"
   ]
  },
  {
   "cell_type": "code",
   "execution_count": null,
   "metadata": {},
   "outputs": [],
   "source": [
    "friends = ['joe', 'gina', 'mehtap', 'michael', 'peter', 'evgeny']"
   ]
  },
  {
   "cell_type": "code",
   "execution_count": null,
   "metadata": {},
   "outputs": [],
   "source": []
  },
  {
   "cell_type": "markdown",
   "metadata": {},
   "source": [
    "2. Split this list of cities into a list (e.g. the str.split() method), then capitalize each of the cities' names."
   ]
  },
  {
   "cell_type": "code",
   "execution_count": 5,
   "metadata": {},
   "outputs": [
    {
     "data": {
      "text/plain": [
       "['paris', 'beijing', 'rabat']"
      ]
     },
     "execution_count": 5,
     "metadata": {},
     "output_type": "execute_result"
    }
   ],
   "source": [
    "capitals = 'paris beijing rabat'\n",
    "capitals.split()"
   ]
  },
  {
   "cell_type": "markdown",
   "metadata": {},
   "source": [
    "3. Convert the following list of volumes (measured in milliliters) to liters"
   ]
  },
  {
   "cell_type": "code",
   "execution_count": 6,
   "metadata": {},
   "outputs": [],
   "source": [
    "volumes_mm = [342, 267, 887, 157, 17, 223]"
   ]
  },
  {
   "cell_type": "markdown",
   "metadata": {},
   "source": [
    "3. The **str()** function turns numbers into strings.  Make a list of strings representing the values from 3 to 10 (i.e. ['3', '4', '5', ...]).\n"
   ]
  },
  {
   "cell_type": "code",
   "execution_count": null,
   "metadata": {},
   "outputs": [],
   "source": []
  },
  {
   "cell_type": "markdown",
   "metadata": {},
   "source": [
    "4. The **float()** function turns objects into ints.  Make a list of floats from the following list:"
   ]
  },
  {
   "cell_type": "code",
   "execution_count": 11,
   "metadata": {},
   "outputs": [],
   "source": [
    "mixed_data = ['3', 3.1, '4', 4.9]"
   ]
  },
  {
   "cell_type": "code",
   "execution_count": null,
   "metadata": {},
   "outputs": [],
   "source": []
  },
  {
   "cell_type": "markdown",
   "metadata": {},
   "source": [
    "## Extra Exercises: The range, zip, and enumerate functions\n",
    "\n",
    "The **range()** function generates a sequence of integers:"
   ]
  },
  {
   "cell_type": "code",
   "execution_count": 14,
   "metadata": {},
   "outputs": [
    {
     "name": "stdout",
     "output_type": "stream",
     "text": [
      "0\n",
      "1\n",
      "2\n",
      "3\n"
     ]
    }
   ],
   "source": [
    "for num in range(4):\n",
    "    print(num)"
   ]
  },
  {
   "cell_type": "markdown",
   "metadata": {},
   "source": [
    "1. Calculate the square of each of the integers between 0 and 30."
   ]
  },
  {
   "cell_type": "code",
   "execution_count": null,
   "metadata": {},
   "outputs": [],
   "source": []
  },
  {
   "cell_type": "markdown",
   "metadata": {},
   "source": [
    "The **zip()** function turns takes multiple lists and turns them into one list of multiples,\n",
    "letting you iterate over multiple lists at the same time."
   ]
  },
  {
   "cell_type": "code",
   "execution_count": 15,
   "metadata": {},
   "outputs": [
    {
     "name": "stdout",
     "output_type": "stream",
     "text": [
      "Hi Judy\n",
      "Bye Cody\n"
     ]
    }
   ],
   "source": [
    "for greeting, name in zip(['Hi', 'Bye'], ['Judy', 'Cody']):\n",
    "  print(greeting, name)"
   ]
  },
  {
   "cell_type": "markdown",
   "metadata": {},
   "source": [
    "1. Make a new list that is the sum of the elements in listA and listB.  "
   ]
  },
  {
   "cell_type": "code",
   "execution_count": 2,
   "metadata": {},
   "outputs": [],
   "source": [
    "lista = [2, 3, 4, 5, 0, 0, 0, 2, 2, 0]\n",
    "listb = [0, 4, 2, 4, 5, 1, 0, 5, 3, 5]\n"
   ]
  },
  {
   "cell_type": "markdown",
   "metadata": {},
   "source": [
    "2. I have a list of dogs and a list of owners.  How do I print their names together (e.g. \"Eric: Pongo\")?"
   ]
  },
  {
   "cell_type": "code",
   "execution_count": 16,
   "metadata": {},
   "outputs": [],
   "source": [
    "dogs = ['Snuffles', 'Pongo', 'Stripes']\n",
    "owners = ['Jerry', 'Caro', 'Sean']"
   ]
  },
  {
   "cell_type": "code",
   "execution_count": null,
   "metadata": {},
   "outputs": [],
   "source": []
  },
  {
   "cell_type": "markdown",
   "metadata": {},
   "source": [
    "\n",
    "## Extra Extra: List Comprehensions\n",
    "\n",
    "All of the previous exercises can be done in a single line, using a **\"List comprehension\"**:\n",
    "\n",
    "```python\n",
    "new_list = [item * 2 for item in old_list]\n",
    "```\n",
    "This syntax has the advantage of being more concise when doing simple tasks.  Try it with the previous exercises (add a new code cell below your previous answers) to see how they work!\n"
   ]
  },
  {
   "cell_type": "markdown",
   "metadata": {},
   "source": [
    "## Extra Extra Extra: Dictionaries"
   ]
  },
  {
   "cell_type": "markdown",
   "metadata": {},
   "source": [
    "Dictionaries (or \"dicts\" in Python talk) are collections like lists, but instead of representing a **sequence** of values, they instead represent a **mapping** of key-value pairs.  For example, in a dictionary of dog owners, one would look up the dog's name (the **key**) and get the corresponding owner's name (the **value**).  As a result, dictionaries are not ordered by nature; it doesn't matter where an item appears in the dictionary, only what the pairing is.  \n",
    "\n",
    "Dicts are made in Python using the curly brace **{}** and colon **:**.  \n",
    "\n",
    "```python\n",
    "owners = {'Snuffles': 'Greg', 'Brownie': 'Susan', 'Tinkles': 'Jenny'}\n",
    "owners['Tinkles']\n",
    ">> 'Jenny'\n",
    "```"
   ]
  },
  {
   "cell_type": "markdown",
   "metadata": {},
   "source": [
    "**Exercises**"
   ]
  },
  {
   "cell_type": "markdown",
   "metadata": {},
   "source": [
    "1. Europe has many countries, each with its own capitol city.  Make a dictionary that gives you the capitol corresponding to a country."
   ]
  },
  {
   "cell_type": "code",
   "execution_count": null,
   "metadata": {},
   "outputs": [],
   "source": []
  },
  {
   "cell_type": "markdown",
   "metadata": {},
   "source": [
    "2. Make a dictionary of the birthday months of the people sitting next to you, so that when you look up their name it gives you the month.  Include yourself!"
   ]
  },
  {
   "cell_type": "code",
   "execution_count": null,
   "metadata": {},
   "outputs": [],
   "source": []
  },
  {
   "cell_type": "markdown",
   "metadata": {},
   "source": [
    "3. You have a list of single-character strings that represent conditions in your experiment: 'L', 'R', and 'C'.  Change those labels to 'Left', 'Right', and 'Center' in the list."
   ]
  },
  {
   "cell_type": "code",
   "execution_count": 5,
   "metadata": {},
   "outputs": [],
   "source": [
    "conditions = {'C': 'Center', 'L': 'Left', 'R': 'Right'}\n",
    "conds = ['C', 'L', 'C', 'R', 'C', 'C', 'C', 'R', 'R', 'R']"
   ]
  },
  {
   "cell_type": "code",
   "execution_count": null,
   "metadata": {},
   "outputs": [],
   "source": []
  }
 ],
 "metadata": {
  "kernelspec": {
   "display_name": "Python 3",
   "language": "python",
   "name": "python3"
  },
  "language_info": {
   "codemirror_mode": {
    "name": "ipython",
    "version": 3
   },
   "file_extension": ".py",
   "mimetype": "text/x-python",
   "name": "python",
   "nbconvert_exporter": "python",
   "pygments_lexer": "ipython3",
   "version": "3.7.3"
  }
 },
 "nbformat": 4,
 "nbformat_minor": 2
}
